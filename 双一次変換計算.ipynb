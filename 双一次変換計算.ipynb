{
 "cells": [
  {
   "cell_type": "markdown",
   "metadata": {},
   "source": [
    "以下のセルを実行して出てきた結果が入力と出力の関係式です．\n",
    "\n",
    "使い方は簡単で，計算したい伝達関数をGに入れてセルを実行するだけです．"
   ]
  },
  {
   "cell_type": "code",
   "execution_count": 2,
   "metadata": {},
   "outputs": [
    {
     "data": {
      "text/latex": [
       "$\\displaystyle \\frac{T_{s} \\left(- 2 x[k-2] + 2 x[k]\\right) + y[k-1] \\left(- 2 K T_{s}^{2} + 8 M\\right) + y[k-2] \\left(2 B T_{s} - K T_{s}^{2} - 4 M\\right)}{2 B T_{s} + K T_{s}^{2} + 4 M}$"
      ],
      "text/plain": [
       "(T_s*(-2*x[k-2] + 2*x[k]) + y[k-1]*(-2*K*T_s**2 + 8*M) + y[k-2]*(2*B*T_s - K*T_s**2 - 4*M))/(2*B*T_s + K*T_s**2 + 4*M)"
      ]
     },
     "execution_count": 2,
     "metadata": {},
     "output_type": "execute_result"
    }
   ],
   "source": [
    "import sympy \n",
    "import numpy as np\n",
    "import re as re\n",
    "\n",
    "x = sympy.Symbol('x')\n",
    "y = sympy.Symbol('y')\n",
    "xk = sympy.Symbol('x[k]')\n",
    "yk = sympy.Symbol('y[k]')\n",
    "xk_1 = sympy.Symbol('x[k-1]')\n",
    "yk_1 = sympy.Symbol('y[k-1]')\n",
    "xk_2 = sympy.Symbol('x[k-2]')\n",
    "yk_2 = sympy.Symbol('y[k-2]')\n",
    "\n",
    "sympy.var('M, B, K')\n",
    "s = sympy.Symbol('s')\n",
    "Tc = sympy.Symbol('T_c')\n",
    "Ts = sympy.Symbol('T_s')\n",
    "z = sympy.Symbol('z')\n",
    "z_1 = sympy.Symbol('z^-1')\n",
    "\n",
    "#G = 1/(Tc*s+1)       # ローパスフィルタ \n",
    "#G = 1/(M*s+B)        # アドミタンス\n",
    "G = s/(M*s**2+B*s+K)  # アドミタンス(Kあり)\n",
    "#G = M*s+B            # インピーダンス\n",
    "\n",
    "f = G*x - y\n",
    "\n",
    "f_k = f.subs([( s**2, (2/Ts*((1-z_1)/(1+z_1)))**2 ), ( s, 2/Ts*((1-z_1)/(1+z_1)) ), (x,xk), (y,yk)])\n",
    "f_k_ans = sympy.cancel(f_k)\n",
    "f_k_ans2 = sympy.simplify(f_k_ans)\n",
    "f_k_ans3 = sympy.numer(f_k_ans2)\n",
    "f_k_ans4 = sympy.expand(f_k_ans3)\n",
    "f_k_ans5 = f_k_ans4.subs([(yk*z_1, yk_1),(xk*z_1, xk_1),(yk_1*z_1, yk_2),(xk_1*z_1, xk_2)])\n",
    "ans = sympy.solve(f_k_ans5, yk)\n",
    "ans2 = sympy.separatevars(ans[0], xk)\n",
    "ans3 = sympy.collect(ans2, xk)\n",
    "ans3 = sympy.collect(ans3, xk_1)\n",
    "ans3 = sympy.collect(ans3, yk_1)\n",
    "ans3 = sympy.collect(ans3, xk_2)\n",
    "ans3 = sympy.collect(ans3, yk_2)\n",
    "ans3 = sympy.collect(ans3, Ts)\n",
    "ans3\n"
   ]
  },
  {
   "cell_type": "markdown",
   "metadata": {},
   "source": [
    "以下のセルは途中の計算過程も確認したい場合にお使い下さい．"
   ]
  },
  {
   "cell_type": "code",
   "execution_count": 1,
   "metadata": {},
   "outputs": [
    {
     "data": {
      "text/latex": [
       "$\\displaystyle - y[k] + \\frac{2 x[k] \\left(1 - z^{-1}\\right)}{T_{s} \\left(z^{-1} + 1\\right) \\left(\\frac{2 B \\left(1 - z^{-1}\\right)}{T_{s} \\left(z^{-1} + 1\\right)} + K + \\frac{4 M \\left(1 - z^{-1}\\right)^{2}}{T_{s}^{2} \\left(z^{-1} + 1\\right)^{2}}\\right)}$"
      ],
      "text/plain": [
       "-y[k] + 2*x[k]*(1 - z^-1)/(T_s*(z^-1 + 1)*(2*B*(1 - z^-1)/(T_s*(z^-1 + 1)) + K + 4*M*(1 - z^-1)**2/(T_s**2*(z^-1 + 1)**2)))"
      ]
     },
     "execution_count": 1,
     "metadata": {},
     "output_type": "execute_result"
    }
   ],
   "source": [
    "import sympy \n",
    "import numpy as np\n",
    "import re as re\n",
    "\n",
    "x = sympy.Symbol('x')\n",
    "y = sympy.Symbol('y')\n",
    "xk = sympy.Symbol('x[k]')\n",
    "yk = sympy.Symbol('y[k]')\n",
    "xk_1 = sympy.Symbol('x[k-1]')\n",
    "yk_1 = sympy.Symbol('y[k-1]')\n",
    "xk_2 = sympy.Symbol('x[k-2]')\n",
    "yk_2 = sympy.Symbol('y[k-2]')\n",
    "\n",
    "sympy.var('M, B, K')\n",
    "s = sympy.Symbol('s')\n",
    "Tc = sympy.Symbol('T_c')\n",
    "Ts = sympy.Symbol('T_s')\n",
    "z = sympy.Symbol('z')\n",
    "z_1 = sympy.Symbol('z^-1')\n",
    "\n",
    "#G = 1/(Tc*s+1)       # ローパスフィルタ \n",
    "#G = 1/(M*s+B)        # アドミタンス\n",
    "G = s/(M*s**2+B*s+K)  # アドミタンス(Kあり)\n",
    "#G = M*s+B            # インピーダンス\n",
    "\n",
    "f = G*x - y\n",
    "\n",
    "f_k = f.subs([( s**2, (2/Ts*((1-z_1)/(1+z_1)))**2 ), ( s, 2/Ts*((1-z_1)/(1+z_1)) ), (x,xk), (y,yk)])\n",
    "f_k\n"
   ]
  },
  {
   "cell_type": "code",
   "execution_count": 2,
   "metadata": {},
   "outputs": [
    {
     "data": {
      "text/latex": [
       "$\\displaystyle - \\frac{2 B T_{s} y[k] \\left(z^{-1}\\right)^{2} - 2 B T_{s} y[k] - K T_{s}^{2} y[k] \\left(z^{-1}\\right)^{2} - 2 K T_{s}^{2} y[k] z^{-1} - K T_{s}^{2} y[k] - 4 M y[k] \\left(z^{-1}\\right)^{2} + 8 M y[k] z^{-1} - 4 M y[k] - 2 T_{s} x[k] \\left(z^{-1}\\right)^{2} + 2 T_{s} x[k]}{2 B T_{s} \\left(z^{-1}\\right)^{2} - 2 B T_{s} - K T_{s}^{2} \\left(z^{-1}\\right)^{2} - 2 K T_{s}^{2} z^{-1} - K T_{s}^{2} - 4 M \\left(z^{-1}\\right)^{2} + 8 M z^{-1} - 4 M}$"
      ],
      "text/plain": [
       "-(2*B*T_s*y[k]*z^-1**2 - 2*B*T_s*y[k] - K*T_s**2*y[k]*z^-1**2 - 2*K*T_s**2*y[k]*z^-1 - K*T_s**2*y[k] - 4*M*y[k]*z^-1**2 + 8*M*y[k]*z^-1 - 4*M*y[k] - 2*T_s*x[k]*z^-1**2 + 2*T_s*x[k])/(2*B*T_s*z^-1**2 - 2*B*T_s - K*T_s**2*z^-1**2 - 2*K*T_s**2*z^-1 - K*T_s**2 - 4*M*z^-1**2 + 8*M*z^-1 - 4*M)"
      ]
     },
     "execution_count": 2,
     "metadata": {},
     "output_type": "execute_result"
    }
   ],
   "source": [
    "f_k_ans = sympy.cancel(f_k)\n",
    "f_k_ans"
   ]
  },
  {
   "cell_type": "code",
   "execution_count": 3,
   "metadata": {},
   "outputs": [
    {
     "data": {
      "text/latex": [
       "$\\displaystyle \\frac{2 B T_{s} y[k] \\left(z^{-1}\\right)^{2} - 2 B T_{s} y[k] - K T_{s}^{2} y[k] \\left(z^{-1}\\right)^{2} - 2 K T_{s}^{2} y[k] z^{-1} - K T_{s}^{2} y[k] - 4 M y[k] \\left(z^{-1}\\right)^{2} + 8 M y[k] z^{-1} - 4 M y[k] - 2 T_{s} x[k] \\left(z^{-1}\\right)^{2} + 2 T_{s} x[k]}{- 2 B T_{s} \\left(z^{-1}\\right)^{2} + 2 B T_{s} + K T_{s}^{2} \\left(z^{-1}\\right)^{2} + 2 K T_{s}^{2} z^{-1} + K T_{s}^{2} + 4 M \\left(z^{-1}\\right)^{2} - 8 M z^{-1} + 4 M}$"
      ],
      "text/plain": [
       "(2*B*T_s*y[k]*z^-1**2 - 2*B*T_s*y[k] - K*T_s**2*y[k]*z^-1**2 - 2*K*T_s**2*y[k]*z^-1 - K*T_s**2*y[k] - 4*M*y[k]*z^-1**2 + 8*M*y[k]*z^-1 - 4*M*y[k] - 2*T_s*x[k]*z^-1**2 + 2*T_s*x[k])/(-2*B*T_s*z^-1**2 + 2*B*T_s + K*T_s**2*z^-1**2 + 2*K*T_s**2*z^-1 + K*T_s**2 + 4*M*z^-1**2 - 8*M*z^-1 + 4*M)"
      ]
     },
     "execution_count": 3,
     "metadata": {},
     "output_type": "execute_result"
    }
   ],
   "source": [
    "f_k_ans2 = sympy.simplify(f_k_ans)\n",
    "f_k_ans2"
   ]
  },
  {
   "cell_type": "code",
   "execution_count": 4,
   "metadata": {},
   "outputs": [
    {
     "data": {
      "text/latex": [
       "$\\displaystyle 2 B T_{s} y[k] \\left(z^{-1}\\right)^{2} - 2 B T_{s} y[k] - K T_{s}^{2} y[k] \\left(z^{-1}\\right)^{2} - 2 K T_{s}^{2} y[k] z^{-1} - K T_{s}^{2} y[k] - 4 M y[k] \\left(z^{-1}\\right)^{2} + 8 M y[k] z^{-1} - 4 M y[k] - 2 T_{s} x[k] \\left(z^{-1}\\right)^{2} + 2 T_{s} x[k]$"
      ],
      "text/plain": [
       "2*B*T_s*y[k]*z^-1**2 - 2*B*T_s*y[k] - K*T_s**2*y[k]*z^-1**2 - 2*K*T_s**2*y[k]*z^-1 - K*T_s**2*y[k] - 4*M*y[k]*z^-1**2 + 8*M*y[k]*z^-1 - 4*M*y[k] - 2*T_s*x[k]*z^-1**2 + 2*T_s*x[k]"
      ]
     },
     "execution_count": 4,
     "metadata": {},
     "output_type": "execute_result"
    }
   ],
   "source": [
    "f_k_ans3 = sympy.numer(f_k_ans2)\n",
    "f_k_ans3"
   ]
  },
  {
   "cell_type": "code",
   "execution_count": 5,
   "metadata": {},
   "outputs": [
    {
     "data": {
      "text/latex": [
       "$\\displaystyle 2 B T_{s} y[k] \\left(z^{-1}\\right)^{2} - 2 B T_{s} y[k] - K T_{s}^{2} y[k] \\left(z^{-1}\\right)^{2} - 2 K T_{s}^{2} y[k] z^{-1} - K T_{s}^{2} y[k] - 4 M y[k] \\left(z^{-1}\\right)^{2} + 8 M y[k] z^{-1} - 4 M y[k] - 2 T_{s} x[k] \\left(z^{-1}\\right)^{2} + 2 T_{s} x[k]$"
      ],
      "text/plain": [
       "2*B*T_s*y[k]*z^-1**2 - 2*B*T_s*y[k] - K*T_s**2*y[k]*z^-1**2 - 2*K*T_s**2*y[k]*z^-1 - K*T_s**2*y[k] - 4*M*y[k]*z^-1**2 + 8*M*y[k]*z^-1 - 4*M*y[k] - 2*T_s*x[k]*z^-1**2 + 2*T_s*x[k]"
      ]
     },
     "execution_count": 5,
     "metadata": {},
     "output_type": "execute_result"
    }
   ],
   "source": [
    "f_k_ans4 = sympy.expand(f_k_ans3)\n",
    "f_k_ans4"
   ]
  },
  {
   "cell_type": "code",
   "execution_count": 6,
   "metadata": {},
   "outputs": [
    {
     "data": {
      "text/latex": [
       "$\\displaystyle 2 B T_{s} y[k-2] - 2 B T_{s} y[k] - 2 K T_{s}^{2} y[k-1] - K T_{s}^{2} y[k-2] - K T_{s}^{2} y[k] + 8 M y[k-1] - 4 M y[k-2] - 4 M y[k] - 2 T_{s} x[k-2] + 2 T_{s} x[k]$"
      ],
      "text/plain": [
       "2*B*T_s*y[k-2] - 2*B*T_s*y[k] - 2*K*T_s**2*y[k-1] - K*T_s**2*y[k-2] - K*T_s**2*y[k] + 8*M*y[k-1] - 4*M*y[k-2] - 4*M*y[k] - 2*T_s*x[k-2] + 2*T_s*x[k]"
      ]
     },
     "execution_count": 6,
     "metadata": {},
     "output_type": "execute_result"
    }
   ],
   "source": [
    "f_k_ans5 = f_k_ans4.subs([(yk*z_1, yk_1),(xk*z_1, xk_1),(yk_1*z_1, yk_2),(xk_1*z_1, xk_2)])\n",
    "f_k_ans5"
   ]
  },
  {
   "cell_type": "code",
   "execution_count": 7,
   "metadata": {},
   "outputs": [
    {
     "data": {
      "text/plain": [
       "[(2*B*T_s*y[k-2] - 2*K*T_s**2*y[k-1] - K*T_s**2*y[k-2] + 8*M*y[k-1] - 4*M*y[k-2] - 2*T_s*x[k-2] + 2*T_s*x[k])/(2*B*T_s + K*T_s**2 + 4*M)]"
      ]
     },
     "execution_count": 7,
     "metadata": {},
     "output_type": "execute_result"
    }
   ],
   "source": [
    "ans = sympy.solve(f_k_ans5, yk)\n",
    "ans"
   ]
  },
  {
   "cell_type": "code",
   "execution_count": 8,
   "metadata": {},
   "outputs": [
    {
     "data": {
      "text/latex": [
       "$\\displaystyle \\frac{2 B T_{s} y[k-2] - 2 K T_{s}^{2} y[k-1] - K T_{s}^{2} y[k-2] + 8 M y[k-1] - 4 M y[k-2] - 2 T_{s} x[k-2] + 2 T_{s} x[k]}{2 B T_{s} + K T_{s}^{2} + 4 M}$"
      ],
      "text/plain": [
       "(2*B*T_s*y[k-2] - 2*K*T_s**2*y[k-1] - K*T_s**2*y[k-2] + 8*M*y[k-1] - 4*M*y[k-2] - 2*T_s*x[k-2] + 2*T_s*x[k])/(2*B*T_s + K*T_s**2 + 4*M)"
      ]
     },
     "execution_count": 8,
     "metadata": {},
     "output_type": "execute_result"
    }
   ],
   "source": [
    "ans2 = sympy.separatevars(ans[0], xk)\n",
    "ans2"
   ]
  },
  {
   "cell_type": "code",
   "execution_count": 9,
   "metadata": {},
   "outputs": [
    {
     "data": {
      "text/latex": [
       "$\\displaystyle \\frac{T_{s} \\left(- 2 x[k-2] + 2 x[k]\\right) + y[k-1] \\left(- 2 K T_{s}^{2} + 8 M\\right) + y[k-2] \\left(2 B T_{s} - K T_{s}^{2} - 4 M\\right)}{2 B T_{s} + K T_{s}^{2} + 4 M}$"
      ],
      "text/plain": [
       "(T_s*(-2*x[k-2] + 2*x[k]) + y[k-1]*(-2*K*T_s**2 + 8*M) + y[k-2]*(2*B*T_s - K*T_s**2 - 4*M))/(2*B*T_s + K*T_s**2 + 4*M)"
      ]
     },
     "execution_count": 9,
     "metadata": {},
     "output_type": "execute_result"
    }
   ],
   "source": [
    "ans3 = sympy.collect(ans2, xk)\n",
    "ans3 = sympy.collect(ans3, xk_1)\n",
    "ans3 = sympy.collect(ans3, yk_1)\n",
    "ans3 = sympy.collect(ans3, xk_2)\n",
    "ans3 = sympy.collect(ans3, yk_2)\n",
    "ans3 = sympy.collect(ans3, Ts)\n",
    "ans3"
   ]
  },
  {
   "cell_type": "code",
   "execution_count": null,
   "metadata": {},
   "outputs": [],
   "source": []
  },
  {
   "cell_type": "code",
   "execution_count": null,
   "metadata": {},
   "outputs": [],
   "source": []
  },
  {
   "cell_type": "code",
   "execution_count": null,
   "metadata": {},
   "outputs": [],
   "source": []
  }
 ],
 "metadata": {
  "kernelspec": {
   "display_name": "Python 3",
   "language": "python",
   "name": "python3"
  },
  "language_info": {
   "codemirror_mode": {
    "name": "ipython",
    "version": 3
   },
   "file_extension": ".py",
   "mimetype": "text/x-python",
   "name": "python",
   "nbconvert_exporter": "python",
   "pygments_lexer": "ipython3",
   "version": "3.7.4"
  },
  "varInspector": {
   "cols": {
    "lenName": 16,
    "lenType": 16,
    "lenVar": 40
   },
   "kernels_config": {
    "python": {
     "delete_cmd_postfix": "",
     "delete_cmd_prefix": "del ",
     "library": "var_list.py",
     "varRefreshCmd": "print(var_dic_list())"
    },
    "r": {
     "delete_cmd_postfix": ") ",
     "delete_cmd_prefix": "rm(",
     "library": "var_list.r",
     "varRefreshCmd": "cat(var_dic_list()) "
    }
   },
   "types_to_exclude": [
    "module",
    "function",
    "builtin_function_or_method",
    "instance",
    "_Feature"
   ],
   "window_display": false
  }
 },
 "nbformat": 4,
 "nbformat_minor": 2
}
